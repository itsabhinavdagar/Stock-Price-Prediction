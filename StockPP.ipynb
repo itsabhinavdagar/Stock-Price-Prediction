{
 "cells": [
  {
   "cell_type": "code",
   "execution_count": 3,
   "id": "e4dea845-ecf0-4f5b-b349-bef4ae74e659",
   "metadata": {},
   "outputs": [],
   "source": [
    "import numpy as np\n",
    "import pandas as pd\n",
    "\n",
    "import seaborn as sns\n",
    "import matplotlib.pyplot as plt\n",
    "\n",
    "import yfinance as yf"
   ]
  },
  {
   "cell_type": "code",
   "execution_count": null,
   "id": "563ea097-d9d3-4e29-bf1b-5a11c6b027dd",
   "metadata": {},
   "outputs": [],
   "source": [
    "pip install yfinance"
   ]
  },
  {
   "cell_type": "markdown",
   "id": "b699cf2d-e0d0-494a-93c0-7e9e74681bde",
   "metadata": {},
   "source": [
    "%matplotlib inline"
   ]
  },
  {
   "cell_type": "code",
   "execution_count": 3,
   "id": "1bb3d700-89c5-46d0-b6fb-e600b49cf9c0",
   "metadata": {},
   "outputs": [
    {
     "name": "stdout",
     "output_type": "stream",
     "text": [
      "Requirement already satisfied: matplotlib in c:\\users\\abhid\\anaconda3\\lib\\site-packages (3.4.3)Note: you may need to restart the kernel to use updated packages.\n",
      "\n",
      "Requirement already satisfied: kiwisolver>=1.0.1 in c:\\users\\abhid\\anaconda3\\lib\\site-packages (from matplotlib) (1.3.1)\n",
      "Requirement already satisfied: cycler>=0.10 in c:\\users\\abhid\\anaconda3\\lib\\site-packages (from matplotlib) (0.10.0)\n",
      "Requirement already satisfied: pillow>=6.2.0 in c:\\users\\abhid\\anaconda3\\lib\\site-packages (from matplotlib) (8.4.0)\n",
      "Requirement already satisfied: pyparsing>=2.2.1 in c:\\users\\abhid\\anaconda3\\lib\\site-packages (from matplotlib) (3.0.4)\n",
      "Requirement already satisfied: python-dateutil>=2.7 in c:\\users\\abhid\\anaconda3\\lib\\site-packages (from matplotlib) (2.8.2)\n",
      "Requirement already satisfied: numpy>=1.16 in c:\\users\\abhid\\anaconda3\\lib\\site-packages (from matplotlib) (1.20.3)\n",
      "Requirement already satisfied: six in c:\\users\\abhid\\anaconda3\\lib\\site-packages (from cycler>=0.10->matplotlib) (1.16.0)\n"
     ]
    }
   ],
   "source": [
    "pip install matplotlib"
   ]
  },
  {
   "cell_type": "code",
   "execution_count": 2,
   "id": "d65b6e81-6650-4fcc-b5fe-2737cb3430d5",
   "metadata": {},
   "outputs": [
    {
     "name": "stdout",
     "output_type": "stream",
     "text": [
      "Requirement already satisfied: matplotlib in c:\\users\\abhid\\anaconda3\\lib\\site-packages (3.4.3)\n",
      "Requirement already satisfied: kiwisolver>=1.0.1 in c:\\users\\abhid\\anaconda3\\lib\\site-packages (from matplotlib) (1.3.1)\n",
      "Requirement already satisfied: numpy>=1.16 in c:\\users\\abhid\\anaconda3\\lib\\site-packages (from matplotlib) (1.20.3)\n",
      "Requirement already satisfied: cycler>=0.10 in c:\\users\\abhid\\anaconda3\\lib\\site-packages (from matplotlib) (0.10.0)\n",
      "Requirement already satisfied: pyparsing>=2.2.1 in c:\\users\\abhid\\anaconda3\\lib\\site-packages (from matplotlib) (3.0.4)\n",
      "Requirement already satisfied: pillow>=6.2.0 in c:\\users\\abhid\\anaconda3\\lib\\site-packages (from matplotlib) (8.4.0)\n",
      "Requirement already satisfied: python-dateutil>=2.7 in c:\\users\\abhid\\anaconda3\\lib\\site-packages (from matplotlib) (2.8.2)\n",
      "Requirement already satisfied: six in c:\\users\\abhid\\anaconda3\\lib\\site-packages (from cycler>=0.10->matplotlib) (1.16.0)\n",
      "Enter stock code: TTM\n"
     ]
    },
    {
     "ename": "NameError",
     "evalue": "name 'yf' is not defined",
     "output_type": "error",
     "traceback": [
      "\u001b[1;31m---------------------------------------------------------------------------\u001b[0m",
      "\u001b[1;31mNameError\u001b[0m                                 Traceback (most recent call last)",
      "\u001b[1;32m~\\AppData\\Local\\Temp/ipykernel_3656/2896495581.py\u001b[0m in \u001b[0;36m<module>\u001b[1;34m\u001b[0m\n\u001b[0;32m      1\u001b[0m \u001b[0mstock\u001b[0m \u001b[1;33m=\u001b[0m \u001b[0minput\u001b[0m\u001b[1;33m(\u001b[0m\u001b[1;34m\"Enter stock code: \"\u001b[0m\u001b[1;33m)\u001b[0m\u001b[1;33m\u001b[0m\u001b[1;33m\u001b[0m\u001b[0m\n\u001b[1;32m----> 2\u001b[1;33m \u001b[0mdata\u001b[0m \u001b[1;33m=\u001b[0m \u001b[0myf\u001b[0m\u001b[1;33m.\u001b[0m\u001b[0mdownload\u001b[0m\u001b[1;33m(\u001b[0m\u001b[0mstock\u001b[0m\u001b[1;33m,\u001b[0m \u001b[0mauto_adjust\u001b[0m\u001b[1;33m=\u001b[0m\u001b[1;32mTrue\u001b[0m\u001b[1;33m)\u001b[0m\u001b[1;33m\u001b[0m\u001b[1;33m\u001b[0m\u001b[0m\n\u001b[0m\u001b[0;32m      3\u001b[0m \u001b[0mdata\u001b[0m\u001b[1;33m.\u001b[0m\u001b[0mtail\u001b[0m\u001b[1;33m(\u001b[0m\u001b[1;33m)\u001b[0m\u001b[1;33m\u001b[0m\u001b[1;33m\u001b[0m\u001b[0m\n",
      "\u001b[1;31mNameError\u001b[0m: name 'yf' is not defined"
     ]
    }
   ],
   "source": [
    "stock = input(\"Enter stock code: \")\n",
    "data = yf.download(stock, auto_adjust=True)\n",
    "data.tail()"
   ]
  },
  {
   "cell_type": "code",
   "execution_count": null,
   "id": "d09f40ec-5861-4ec9-80c1-689e7c7c797e",
   "metadata": {},
   "outputs": [],
   "source": [
    "data.isnull().sum()"
   ]
  },
  {
   "cell_type": "code",
   "execution_count": 59,
   "id": "61944ed7-19e7-442c-b074-2d54a7f856e6",
   "metadata": {},
   "outputs": [
    {
     "data": {
      "text/plain": [
       "(3035, 5)"
      ]
     },
     "execution_count": 59,
     "metadata": {},
     "output_type": "execute_result"
    }
   ],
   "source": [
    "data.shape"
   ]
  },
  {
   "cell_type": "code",
   "execution_count": 49,
   "id": "a6dfba5f-f617-4fc2-95b4-5c6139865d56",
   "metadata": {},
   "outputs": [
    {
     "data": {
      "text/html": [
       "<div>\n",
       "<style scoped>\n",
       "    .dataframe tbody tr th:only-of-type {\n",
       "        vertical-align: middle;\n",
       "    }\n",
       "\n",
       "    .dataframe tbody tr th {\n",
       "        vertical-align: top;\n",
       "    }\n",
       "\n",
       "    .dataframe thead th {\n",
       "        text-align: right;\n",
       "    }\n",
       "</style>\n",
       "<table border=\"1\" class=\"dataframe\">\n",
       "  <thead>\n",
       "    <tr style=\"text-align: right;\">\n",
       "      <th></th>\n",
       "      <th>Open</th>\n",
       "      <th>High</th>\n",
       "      <th>Low</th>\n",
       "      <th>Close</th>\n",
       "      <th>Volume</th>\n",
       "    </tr>\n",
       "  </thead>\n",
       "  <tbody>\n",
       "    <tr>\n",
       "      <th>count</th>\n",
       "      <td>6535.000000</td>\n",
       "      <td>6535.000000</td>\n",
       "      <td>6535.000000</td>\n",
       "      <td>6535.000000</td>\n",
       "      <td>6.535000e+03</td>\n",
       "    </tr>\n",
       "    <tr>\n",
       "      <th>mean</th>\n",
       "      <td>168.770301</td>\n",
       "      <td>171.409082</td>\n",
       "      <td>165.833571</td>\n",
       "      <td>168.516173</td>\n",
       "      <td>1.519643e+07</td>\n",
       "    </tr>\n",
       "    <tr>\n",
       "      <th>std</th>\n",
       "      <td>151.884077</td>\n",
       "      <td>153.775947</td>\n",
       "      <td>149.729180</td>\n",
       "      <td>151.654381</td>\n",
       "      <td>2.101902e+07</td>\n",
       "    </tr>\n",
       "    <tr>\n",
       "      <th>min</th>\n",
       "      <td>8.975606</td>\n",
       "      <td>9.393435</td>\n",
       "      <td>8.905966</td>\n",
       "      <td>9.099405</td>\n",
       "      <td>0.000000e+00</td>\n",
       "    </tr>\n",
       "    <tr>\n",
       "      <th>25%</th>\n",
       "      <td>45.687083</td>\n",
       "      <td>46.527600</td>\n",
       "      <td>44.492385</td>\n",
       "      <td>45.402588</td>\n",
       "      <td>5.019882e+06</td>\n",
       "    </tr>\n",
       "    <tr>\n",
       "      <th>50%</th>\n",
       "      <td>120.417216</td>\n",
       "      <td>122.858547</td>\n",
       "      <td>118.278863</td>\n",
       "      <td>120.528847</td>\n",
       "      <td>8.949767e+06</td>\n",
       "    </tr>\n",
       "    <tr>\n",
       "      <th>75%</th>\n",
       "      <td>268.906447</td>\n",
       "      <td>272.283938</td>\n",
       "      <td>263.330404</td>\n",
       "      <td>267.500000</td>\n",
       "      <td>1.664747e+07</td>\n",
       "    </tr>\n",
       "    <tr>\n",
       "      <th>max</th>\n",
       "      <td>599.969112</td>\n",
       "      <td>605.655840</td>\n",
       "      <td>589.634252</td>\n",
       "      <td>597.892273</td>\n",
       "      <td>3.905778e+08</td>\n",
       "    </tr>\n",
       "  </tbody>\n",
       "</table>\n",
       "</div>"
      ],
      "text/plain": [
       "              Open         High          Low        Close        Volume\n",
       "count  6535.000000  6535.000000  6535.000000  6535.000000  6.535000e+03\n",
       "mean    168.770301   171.409082   165.833571   168.516173  1.519643e+07\n",
       "std     151.884077   153.775947   149.729180   151.654381  2.101902e+07\n",
       "min       8.975606     9.393435     8.905966     9.099405  0.000000e+00\n",
       "25%      45.687083    46.527600    44.492385    45.402588  5.019882e+06\n",
       "50%     120.417216   122.858547   118.278863   120.528847  8.949767e+06\n",
       "75%     268.906447   272.283938   263.330404   267.500000  1.664747e+07\n",
       "max     599.969112   605.655840   589.634252   597.892273  3.905778e+08"
      ]
     },
     "execution_count": 49,
     "metadata": {},
     "output_type": "execute_result"
    }
   ],
   "source": [
    "data.describe()"
   ]
  },
  {
   "cell_type": "code",
   "execution_count": 10,
   "id": "8861a50d-6dc0-441b-b8b3-f293b4760d68",
   "metadata": {},
   "outputs": [
    {
     "name": "stdout",
     "output_type": "stream",
     "text": [
      "<class 'pandas.core.frame.DataFrame'>\n",
      "DatetimeIndex: 6535 entries, 1995-12-25 to 2021-12-10\n",
      "Data columns (total 5 columns):\n",
      " #   Column  Non-Null Count  Dtype  \n",
      "---  ------  --------------  -----  \n",
      " 0   Open    6535 non-null   float64\n",
      " 1   High    6535 non-null   float64\n",
      " 2   Low     6535 non-null   float64\n",
      " 3   Close   6535 non-null   float64\n",
      " 4   Volume  6535 non-null   int64  \n",
      "dtypes: float64(4), int64(1)\n",
      "memory usage: 306.3 KB\n"
     ]
    }
   ],
   "source": [
    "data.info()"
   ]
  },
  {
   "cell_type": "code",
   "execution_count": 67,
   "id": "9730c1e7-756a-496f-a4ca-1a0ca184b1fd",
   "metadata": {},
   "outputs": [
    {
     "data": {
      "text/plain": [
       "Text(0.5, 1.0, 'ADANIPOWER.NS Price Series')"
      ]
     },
     "execution_count": 67,
     "metadata": {},
     "output_type": "execute_result"
    },
    {
     "data": {
      "image/png": "[encoded data removed]",
      "text/plain": [
       "<Figure size 1440x1440 with 1 Axes>"
      ]
     },
     "metadata": {
      "needs_background": "light"
     },
     "output_type": "display_data"
    }
   ],
   "source": [
    "data.Close.plot(figsize=(20, 20), color = 'r')\n",
    "plt.ylabel(\" {} Prices \".format(stock))\n",
    "plt.title(\"{} Price Series\".format(stock))"
   ]
  },
  {
   "cell_type": "code",
   "execution_count": 64,
   "id": "06025720-8b3b-4cf1-8898-4a4fe189e034",
   "metadata": {},
   "outputs": [
    {
     "name": "stderr",
     "output_type": "stream",
     "text": [
      "c:\\users\\anike\\pycharmprojects\\stock price predictor\\venv\\lib\\site-packages\\seaborn\\distributions.py:2619: FutureWarning: `distplot` is a deprecated function and will be removed in a future version. Please adapt your code to use either `displot` (a figure-level function with similar flexibility) or `histplot` (an axes-level function for histograms).\n",
      "  warnings.warn(msg, FutureWarning)\n"
     ]
    },
    {
     "data": {
      "text/plain": [
       "<AxesSubplot:xlabel='Close', ylabel='Density'>"
      ]
     },
     "execution_count": 64,
     "metadata": {},
     "output_type": "execute_result"
    },
    {
     "data": {
      "image/png": "[encoded data removed]",
      "text/plain": [
       "<Figure size 432x288 with 1 Axes>"
      ]
     },
     "metadata": {
      "needs_background": "light"
     },
     "output_type": "display_data"
    }
   ],
   "source": [
    "sns.distplot(data[\"Close\"])"
   ]
  },
  {
   "cell_type": "code",
   "execution_count": 63,
   "id": "71cb116d-2ceb-4748-93fd-6a137d3f5f09",
   "metadata": {},
   "outputs": [
    {
     "data": {
      "text/plain": [
       "<AxesSubplot:>"
      ]
     },
     "execution_count": 63,
     "metadata": {},
     "output_type": "execute_result"
    },
    {
     "data": {
      "image/png": "[encoded data removed]",
      "text/plain": [
       "<Figure size 432x288 with 2 Axes>"
      ]
     },
     "metadata": {
      "needs_background": "light"
     },
     "output_type": "display_data"
    }
   ],
   "source": [
    "corr = data.corr().round(2)\n",
    "sns.heatmap(data=corr, annot=True)"
   ]
  },
  {
   "cell_type": "code",
   "execution_count": 61,
   "id": "e7bb4f52-3c99-45f0-b284-b461e3186d35",
   "metadata": {},
   "outputs": [
    {
     "name": "stdout",
     "output_type": "stream",
     "text": [
      "(2428, 4)\n",
      "(607, 4)\n",
      "(2428,)\n",
      "(607,)\n"
     ]
    }
   ],
   "source": [
    "X = data.drop([\"Close\"], axis=1)\n",
    "Y = data[\"Close\"]\n",
    "\n",
    "from sklearn.model_selection import train_test_split\n",
    "\n",
    "X_train, X_test, Y_train, Y_test = train_test_split(X,Y, test_size=0.2, random_state=0)\n",
    "print(X_train.shape)\n",
    "print(X_test.shape)\n",
    "print(Y_train.shape)\n",
    "print(Y_test.shape)"
   ]
  },
  {
   "cell_type": "code",
   "execution_count": 68,
   "id": "1ddce2ee-2386-4538-93c7-92e4ea41ac6f",
   "metadata": {},
   "outputs": [],
   "source": [
    "from sklearn.linear_model import LinearRegression\n",
    "\n",
    "lr = LinearRegression()\n",
    "lr.fit(X_train, Y_train)\n",
    "\n",
    "pred = lr.predict(X_test)"
   ]
  },
  {
   "cell_type": "code",
   "execution_count": 69,
   "id": "996c7436-c564-4614-acc2-e3cec65c040b",
   "metadata": {},
   "outputs": [
    {
     "data": {
      "text/plain": [
       "array([113.65462644,  49.6203814 ,  61.16804266,  59.99837422,\n",
       "        71.80196916,  27.28847175,  26.92846846,  49.61154714,\n",
       "        34.82844811,  26.77865786,  57.82565585, 122.88320371,\n",
       "        78.4114765 ,  46.5553997 , 112.23266585,  24.46507466,\n",
       "        38.74910718, 100.40839593,  25.73902118,  38.11328454,\n",
       "        27.3292911 ,  21.49418986, 141.89948766,  29.93990163,\n",
       "        43.5026551 ,  32.80949536, 126.26187149,  35.46567293,\n",
       "        45.24363507,  34.60598578,  23.89631025,  27.7274505 ,\n",
       "        48.14211119, 113.5951841 ,  41.34541836,  46.83994995,\n",
       "        70.68953791,  28.37555168, 118.27251848,  44.92286322,\n",
       "        77.12881992,  55.18138667,  47.20477441,  49.22805995,\n",
       "        40.4095814 ,  57.83299534,  32.31784125,  85.27036011,\n",
       "        47.73962466,  51.5756131 , 125.8538724 ,  31.54462611,\n",
       "        29.96801563,  48.52207097,  58.51196935,  48.88775725,\n",
       "       142.92247298,  32.08824602,  49.28726101,  29.70480789,\n",
       "        36.53106076,  57.23339867, 101.90503502,  44.95275172,\n",
       "        35.51357298,  39.97157382, 111.03518872, 102.06613222,\n",
       "        48.23123876,  82.39357454,  83.04740609,  67.27117125,\n",
       "        45.94678138, 100.73562283,  29.29580728,  38.9451157 ,\n",
       "        27.66425708, 102.09320506, 115.24219513,  52.67549085,\n",
       "       133.81075753, 100.91550118, 139.08374872, 134.14592557,\n",
       "        34.63414404,  39.53404205,  47.69861466,  55.03162936,\n",
       "       115.9105462 ,  27.59355337,  35.59870145,  27.63639846,\n",
       "        66.80315446,  47.0718187 ,  38.48634617,  60.05760883,\n",
       "        49.86562177,  39.83093708,  57.87852107,  78.91416582,\n",
       "        27.17756133,  36.56802854,  73.19987968,  64.31181617,\n",
       "        68.73419238,  33.50120384,  61.45230709,  45.64773934,\n",
       "       107.79257332,  52.01223999,  29.95862982,  45.55418932,\n",
       "        51.86388115,  25.17356149,  50.69718187,  33.23065639,\n",
       "        36.25613787,  45.57783382,  35.41415224, 132.8600517 ,\n",
       "        62.59912369, 130.95144083,  27.7492991 ,  27.41894833,\n",
       "        38.90566219,  37.49458909,  36.35856224,  27.62626621,\n",
       "       105.78626899,  49.72909263,  35.19156755,  29.72978661,\n",
       "        25.90324884,  33.2830332 ,  49.81945965,  92.86123313,\n",
       "        32.28983553,  61.75501196,  89.90280033,  87.62438952,\n",
       "       101.62673043,  27.26180077,  34.18692768, 106.61047053,\n",
       "        47.56182259,  34.82025148, 107.77673376,  36.62378471,\n",
       "        44.57156523,  47.26282845,  20.56154717, 128.1562807 ,\n",
       "        57.6746258 ,  31.94906774,  47.40286047,  30.07677753,\n",
       "        61.14777083,  28.84716324,  63.19940365,  70.18333897,\n",
       "        29.43017469,  49.30148824,  32.52213491,  72.51339986,\n",
       "        37.14276851,  50.39160727,  55.05802472,  74.40556566,\n",
       "        52.66654867, 101.10132742,  50.27011108, 103.66901718,\n",
       "        31.8860595 ,  48.26229602,  30.22346611, 109.53638158,\n",
       "        25.44183132,  71.0118075 ,  24.4656998 ,  44.74455007,\n",
       "        44.75838433,  79.40392177,  37.81819217,  93.79601325,\n",
       "        55.36556146, 135.36538924,  27.42439222,  50.27312726,\n",
       "        53.68785282, 103.15562549,  27.20179016,  67.84600568,\n",
       "        36.45636318,  26.2820086 ,  31.81853997, 101.15847393,\n",
       "       111.11048269,  16.02841156,  52.24523236,  46.85173422,\n",
       "        39.91756794,  47.53343627,  93.15515975, 108.77301412,\n",
       "        30.81900904,  33.25150368,  24.12981009,  91.48527996,\n",
       "        29.81332757,  24.58324496, 112.70975151,  82.91754541,\n",
       "        62.64609255,  36.13834961,  49.48601797,  41.14967629,\n",
       "        51.4893903 ,  27.57530996,  46.24115493,  35.07940706,\n",
       "       111.58570573,  39.09960228,  60.37930352, 104.6109701 ,\n",
       "       100.93599629,  29.62704399,  95.83435909,  88.08285782,\n",
       "        50.77226683,  45.51977628,  45.64595535, 105.42806836,\n",
       "       113.34976425,  28.98115318,  42.42351624,  42.46956432,\n",
       "        36.67879464,  97.10240352,  36.75938849, 113.39714253,\n",
       "        59.14284589,  83.82034666,  76.24369286, 127.30612945,\n",
       "        34.90983519,  32.66512778,  28.86793336,  26.53948533,\n",
       "       136.33503949,  78.007791  ,  60.45294054, 113.13757013,\n",
       "        51.59995749,  92.89510095, 138.24800525,  25.67923492,\n",
       "        36.5631127 ,  84.65485389,  37.179324  ,  67.48631486,\n",
       "        49.66892579,  24.4220467 ,  37.73731737, 137.87031555,\n",
       "        49.08662119,  28.45537187,  43.52922415,  58.4918482 ,\n",
       "        48.57302004,  34.85046257,  27.79500342,  35.25489225,\n",
       "        60.64671658,  65.48193497, 119.64365488,  88.40396327,\n",
       "        18.96990426,  87.07136381,  21.12257512,  30.6257341 ,\n",
       "        44.96676705,  36.72401196,  50.0934374 ,  48.27301937,\n",
       "        86.46125594,  33.84568016,  60.39790123,  32.94985856,\n",
       "        50.88849032, 141.20722683,  98.47911301,  25.64058117,\n",
       "       102.86031193,  52.73326451,  76.576699  , 122.18094223,\n",
       "       111.2133899 ,  30.17508212,  41.69810418,  64.55054786,\n",
       "        47.86262772,  35.86028597,  45.92898588,  62.94011271,\n",
       "        31.97776162,  54.20299033,  26.04292234,  35.25803052,\n",
       "        29.82589504,  34.14100998,  29.54005383,  31.88647063,\n",
       "        36.61285554,  32.32330842,  40.00529339,  50.13273552,\n",
       "        40.01010383,  45.3956656 ,  29.35605889,  57.68698043,\n",
       "        51.66875269,  88.86301756,  44.04616916,  48.08818721,\n",
       "        31.85728449,  64.22998349,  41.46196228,  24.77374569,\n",
       "       110.2008107 ,  21.56433108, 104.83074255, 133.70248751,\n",
       "        34.6229332 ,  89.86764635,  40.42402065,  50.6811935 ,\n",
       "        34.61874777,  69.639117  ,  93.38779426,  28.56509826,\n",
       "        32.34039863, 110.06282336,  50.11905903, 122.8732069 ,\n",
       "        31.97548806,  30.83016734,  66.62233272,  64.15669884,\n",
       "       126.4686007 ,  61.29871234,  52.18370621, 118.35782773,\n",
       "        41.96213177,  35.95494698, 101.86571949,  47.21901353,\n",
       "        40.7986091 ,  62.89304105,  30.10590698,  35.52841411,\n",
       "        30.65045307,  50.69785523,  96.81564584,  28.84084193,\n",
       "        35.59098449, 102.76238047,  34.98040244,  48.7887732 ,\n",
       "        66.28244447,  35.6006132 , 105.51206407,  40.88204711,\n",
       "        50.61768211,  51.00278951,  28.43781624,  99.20623235,\n",
       "       136.76547561,  86.44699782,  53.36192499, 116.68004178,\n",
       "        63.18477829,  32.98251565,  38.0029808 ,  51.05998758,\n",
       "        99.96639964,  51.9416234 ,  56.71664562,  98.64321142,\n",
       "        27.73710485,  48.67200066,  31.5005911 , 140.36685553,\n",
       "        60.59746324,  70.29473562, 115.84912333,  36.70124125,\n",
       "        49.82692214,  44.89892416,  52.87671081,  38.59326429,\n",
       "        27.16452558, 131.225505  , 129.08486453,  32.84557414,\n",
       "        30.26987106,  60.61513364, 134.09921163,  31.38892715,\n",
       "        27.92936384,  61.75216264,  56.84761314,  56.11751407,\n",
       "       136.09500476,  63.67787928, 128.73353004,  65.18036964,\n",
       "        45.73535495,  61.13919439,  33.8124589 ,  54.4189937 ,\n",
       "        45.64317693,  26.52911239,  46.48142495, 113.43390401,\n",
       "        90.25628809, 121.23722939,  28.62311276,  46.8691712 ,\n",
       "        33.61454696,  61.19968799,  54.36686976, 103.10496826,\n",
       "        39.54383162,  36.93226075,  29.66443821, 111.90000698,\n",
       "        38.9695544 ,  25.51249007, 138.20396669, 134.38340146,\n",
       "       139.37580259,  59.35931481,  33.69625021,  26.56669338,\n",
       "        67.21657561,  32.59691716,  57.67826404,  26.44968774,\n",
       "        46.04623451,  56.6026641 ,  65.43862444,  39.66772288,\n",
       "        45.5363194 ,  55.04149022,  39.02490108,  50.32725525,\n",
       "        27.99722314,  32.66157926,  94.76787195,  41.02305243,\n",
       "        67.23282978,  30.81991605,  31.09397749,  30.15793493,\n",
       "        30.29840595,  29.221451  ,  33.12348281,  45.5101397 ,\n",
       "        40.31279491,  37.06541019,  47.37030341, 112.16672871,\n",
       "        88.78574559, 115.79328751,  60.8722196 , 108.58939047,\n",
       "        44.66657528,  26.87966884,  15.56259446, 126.69828559,\n",
       "        91.09693466,  76.1592847 ,  97.78031971,  54.49344842,\n",
       "        35.17150167, 132.8091857 ,  52.1757697 ,  50.80686317,\n",
       "        34.942666  ,  55.91094992, 101.30409099,  38.57986962,\n",
       "        28.90521606,  40.09088831,  28.92495094,  49.07225646,\n",
       "       101.67950103,  40.9667517 ,  36.70482874,  49.86583715,\n",
       "       100.10428924, 128.13308648,  56.59974538,  39.83884751,\n",
       "       124.21501665,  72.65858526,  54.3759795 , 108.54082191,\n",
       "       107.16288808,  46.80689404,  26.33323335,  86.52949116,\n",
       "        62.41234727,  39.29809697,  51.35465081,  88.43376488,\n",
       "        55.50486808,  35.47539677, 100.66004602,  31.83431545,\n",
       "        27.41653281, 123.76220742,  55.10563283, 112.95414347,\n",
       "        95.7605325 ,  51.00675334,  48.78578866,  40.04842177,\n",
       "        39.49146977, 127.09748205,  27.88086625,  62.63379354,\n",
       "        58.23379459,  56.33106097,  95.77737256,  25.6815754 ,\n",
       "        38.68837156,  53.43636645,  34.68890797,  77.84485949,\n",
       "        30.36536492,  50.30363195,  50.63350376, 159.3875274 ,\n",
       "        50.2045021 ,  26.23077825,  94.19778836,  61.92405674,\n",
       "        27.58981431, 122.17221597,  28.13995039,  25.83366901,\n",
       "        40.86711401,  56.04020821,  95.69424201,  45.73561732,\n",
       "        48.59658286,  36.60865627,  88.15750547,  94.53673448,\n",
       "       140.74624084,  66.82422912, 107.78219418,  46.04486212,\n",
       "        90.1511187 ,  27.92536714,  25.90262434,  28.49122653,\n",
       "        86.18363491, 111.64339197,  49.85740629,  31.0278133 ,\n",
       "        31.72353735, 103.1766378 ,  32.49595161,  36.47976354,\n",
       "        38.5247422 ,  50.52595023,  37.29995945, 124.95931207,\n",
       "        60.01284672,  39.30253597,  37.67837213,  35.12827138,\n",
       "        47.25542557,  69.98578003,  24.63948   ,  34.92390221,\n",
       "        93.73436592,  18.77728631, 108.83898025,  25.17652687,\n",
       "       114.52461126,  28.97258071,  64.41650224,  30.82211037,\n",
       "       120.17118889,  41.98268497, 114.01681488,  31.56686763,\n",
       "        87.11422856,  19.13168184,  48.34182902,  51.07054852,\n",
       "        38.5859873 ,  88.00887209,  29.19397995])"
      ]
     },
     "execution_count": 69,
     "metadata": {},
     "output_type": "execute_result"
    }
   ],
   "source": [
    "pred"
   ]
  },
  {
   "cell_type": "code",
   "execution_count": 71,
   "id": "6a3abf90-3df3-4da7-b2f5-2f30162aad9a",
   "metadata": {},
   "outputs": [
    {
     "name": "stdout",
     "output_type": "stream",
     "text": [
      "RMSE:  0.7349279319140314\n",
      "R2 SCORE:  0.999483515571697\n",
      "MSE:  0.5401190651074351\n"
     ]
    }
   ],
   "source": [
    "from sklearn.metrics import mean_squared_error, r2_score\n",
    "\n",
    "def calculate(y_test, y_pred):\n",
    "    mse=mean_squared_error(y_test, y_pred)\n",
    "    r2=r2_score(y_test, y_pred)\n",
    "    rmse=np.sqrt(mse)\n",
    "    \n",
    "    print(\"RMSE: \",rmse)\n",
    "    print(\"R2 SCORE: \", r2)\n",
    "    print(\"MSE: \", mse)\n",
    "\n",
    "calculate(Y_test, pred)\n",
    "    "
   ]
  },
  {
   "cell_type": "code",
   "execution_count": 86,
   "id": "fc4d81dd-f968-4077-b1a2-f005df9b9f0c",
   "metadata": {},
   "outputs": [
    {
     "name": "stderr",
     "output_type": "stream",
     "text": [
      "c:\\users\\anike\\pycharmprojects\\stock price predictor\\venv\\lib\\site-packages\\sklearn\\linear_model\\_coordinate_descent.py:647: ConvergenceWarning: Objective did not converge. You might want to increase the number of iterations, check the scale of the features or consider increasing regularisation. Duality gap: 5.113e+02, tolerance: 2.550e+02\n",
      "  model = cd_fast.enet_coordinate_descent(\n"
     ]
    }
   ],
   "source": [
    "from sklearn.linear_model import Lasso, Ridge\n",
    "\n",
    "lasso = Lasso().fit(X_train, Y_train)\n",
    "ridge = Ridge().fit(X_train, Y_train)\n",
    "\n",
    "pred2=lasso.predict(X_test)\n",
    "pred3=ridge.predict(X_test)"
   ]
  },
  {
   "cell_type": "code",
   "execution_count": 87,
   "id": "05ab44a0-79d7-4ff9-ae33-ffa3a5f287c8",
   "metadata": {},
   "outputs": [
    {
     "name": "stdout",
     "output_type": "stream",
     "text": [
      "RMSE:  0.7349279319140314\n",
      "R2 SCORE:  0.999483515571697\n",
      "MSE:  0.5401190651074351\n",
      "RMSE:  0.8882954207391834\n",
      "R2 SCORE:  0.9992454594720115\n",
      "MSE:  0.789068754506203\n",
      "RMSE:  0.7348569577209922\n",
      "R2 SCORE:  0.9994836153237785\n",
      "MSE:  0.5400147483109522\n"
     ]
    }
   ],
   "source": [
    "calculate(Y_test, pred)\n",
    "calculate(Y_test, pred2)\n",
    "calculate(Y_test, pred3)"
   ]
  },
  {
   "cell_type": "code",
   "execution_count": 88,
   "id": "2a2e05c0-9c53-40d1-8aee-82face2cd8f6",
   "metadata": {},
   "outputs": [],
   "source": [
    "# ridge rocks"
   ]
  },
  {
   "cell_type": "code",
   "execution_count": 89,
   "id": "38e05c82-ceeb-4cbe-9ca4-027b3b1dfa5e",
   "metadata": {},
   "outputs": [
    {
     "name": "stdout",
     "output_type": "stream",
     "text": [
      "Fitting 5 folds for each of 25 candidates, totalling 125 fits\n",
      "[CV 1/5] END .......C=0.1, gamma=1, kernel=rbf;, score=-0.103 total time=   0.7s\n",
      "[CV 2/5] END .......C=0.1, gamma=1, kernel=rbf;, score=-0.145 total time=   0.5s\n",
      "[CV 3/5] END .......C=0.1, gamma=1, kernel=rbf;, score=-0.143 total time=   0.5s\n",
      "[CV 4/5] END .......C=0.1, gamma=1, kernel=rbf;, score=-0.125 total time=   0.5s\n",
      "[CV 5/5] END .......C=0.1, gamma=1, kernel=rbf;, score=-0.072 total time=   0.5s\n",
      "[CV 1/5] END .....C=0.1, gamma=0.1, kernel=rbf;, score=-0.103 total time=   0.5s\n",
      "[CV 2/5] END .....C=0.1, gamma=0.1, kernel=rbf;, score=-0.145 total time=   0.5s\n",
      "[CV 3/5] END .....C=0.1, gamma=0.1, kernel=rbf;, score=-0.143 total time=   0.5s\n",
      "[CV 4/5] END .....C=0.1, gamma=0.1, kernel=rbf;, score=-0.125 total time=   0.5s\n",
      "[CV 5/5] END .....C=0.1, gamma=0.1, kernel=rbf;, score=-0.072 total time=   0.5s\n",
      "[CV 1/5] END ....C=0.1, gamma=0.01, kernel=rbf;, score=-0.103 total time=   0.5s\n",
      "[CV 2/5] END ....C=0.1, gamma=0.01, kernel=rbf;, score=-0.145 total time=   1.0s\n",
      "[CV 3/5] END ....C=0.1, gamma=0.01, kernel=rbf;, score=-0.143 total time=   0.8s\n",
      "[CV 4/5] END ....C=0.1, gamma=0.01, kernel=rbf;, score=-0.125 total time=   0.7s\n",
      "[CV 5/5] END ....C=0.1, gamma=0.01, kernel=rbf;, score=-0.072 total time=   0.9s\n",
      "[CV 1/5] END ...C=0.1, gamma=0.001, kernel=rbf;, score=-0.103 total time=   0.7s\n",
      "[CV 2/5] END ...C=0.1, gamma=0.001, kernel=rbf;, score=-0.145 total time=   0.7s\n",
      "[CV 3/5] END ...C=0.1, gamma=0.001, kernel=rbf;, score=-0.143 total time=   0.7s\n",
      "[CV 4/5] END ...C=0.1, gamma=0.001, kernel=rbf;, score=-0.125 total time=   0.6s\n",
      "[CV 5/5] END ...C=0.1, gamma=0.001, kernel=rbf;, score=-0.072 total time=   0.6s\n",
      "[CV 1/5] END ..C=0.1, gamma=0.0001, kernel=rbf;, score=-0.103 total time=   0.6s\n",
      "[CV 2/5] END ..C=0.1, gamma=0.0001, kernel=rbf;, score=-0.145 total time=   0.6s\n",
      "[CV 3/5] END ..C=0.1, gamma=0.0001, kernel=rbf;, score=-0.143 total time=   0.6s\n",
      "[CV 4/5] END ..C=0.1, gamma=0.0001, kernel=rbf;, score=-0.125 total time=   0.6s\n",
      "[CV 5/5] END ..C=0.1, gamma=0.0001, kernel=rbf;, score=-0.072 total time=   0.6s\n",
      "[CV 1/5] END .........C=1, gamma=1, kernel=rbf;, score=-0.103 total time=   0.6s\n",
      "[CV 2/5] END .........C=1, gamma=1, kernel=rbf;, score=-0.147 total time=   0.6s\n",
      "[CV 3/5] END .........C=1, gamma=1, kernel=rbf;, score=-0.143 total time=   0.6s\n",
      "[CV 4/5] END .........C=1, gamma=1, kernel=rbf;, score=-0.125 total time=   0.6s\n",
      "[CV 5/5] END .........C=1, gamma=1, kernel=rbf;, score=-0.072 total time=   0.6s\n",
      "[CV 1/5] END .......C=1, gamma=0.1, kernel=rbf;, score=-0.103 total time=   0.6s\n",
      "[CV 2/5] END .......C=1, gamma=0.1, kernel=rbf;, score=-0.147 total time=   0.6s\n",
      "[CV 3/5] END .......C=1, gamma=0.1, kernel=rbf;, score=-0.143 total time=   0.6s\n",
      "[CV 4/5] END .......C=1, gamma=0.1, kernel=rbf;, score=-0.125 total time=   0.6s\n",
      "[CV 5/5] END .......C=1, gamma=0.1, kernel=rbf;, score=-0.072 total time=   0.6s\n",
      "[CV 1/5] END ......C=1, gamma=0.01, kernel=rbf;, score=-0.103 total time=   0.6s\n",
      "[CV 2/5] END ......C=1, gamma=0.01, kernel=rbf;, score=-0.147 total time=   0.6s\n",
      "[CV 3/5] END ......C=1, gamma=0.01, kernel=rbf;, score=-0.143 total time=   0.7s\n",
      "[CV 4/5] END ......C=1, gamma=0.01, kernel=rbf;, score=-0.125 total time=   0.6s\n",
      "[CV 5/5] END ......C=1, gamma=0.01, kernel=rbf;, score=-0.072 total time=   0.7s\n",
      "[CV 1/5] END .....C=1, gamma=0.001, kernel=rbf;, score=-0.103 total time=   0.6s\n",
      "[CV 2/5] END .....C=1, gamma=0.001, kernel=rbf;, score=-0.147 total time=   0.6s\n",
      "[CV 3/5] END .....C=1, gamma=0.001, kernel=rbf;, score=-0.143 total time=   0.5s\n",
      "[CV 4/5] END .....C=1, gamma=0.001, kernel=rbf;, score=-0.125 total time=   0.5s\n",
      "[CV 5/5] END .....C=1, gamma=0.001, kernel=rbf;, score=-0.072 total time=   0.5s\n",
      "[CV 1/5] END ....C=1, gamma=0.0001, kernel=rbf;, score=-0.101 total time=   0.5s\n",
      "[CV 2/5] END ....C=1, gamma=0.0001, kernel=rbf;, score=-0.145 total time=   0.5s\n",
      "[CV 3/5] END ....C=1, gamma=0.0001, kernel=rbf;, score=-0.142 total time=   0.5s\n",
      "[CV 4/5] END ....C=1, gamma=0.0001, kernel=rbf;, score=-0.124 total time=   0.6s\n",
      "[CV 5/5] END ....C=1, gamma=0.0001, kernel=rbf;, score=-0.071 total time=   0.6s\n",
      "[CV 1/5] END ........C=10, gamma=1, kernel=rbf;, score=-0.108 total time=   0.5s\n",
      "[CV 2/5] END ........C=10, gamma=1, kernel=rbf;, score=-0.158 total time=   0.6s\n",
      "[CV 3/5] END ........C=10, gamma=1, kernel=rbf;, score=-0.152 total time=   0.6s\n",
      "[CV 4/5] END ........C=10, gamma=1, kernel=rbf;, score=-0.133 total time=   0.8s\n",
      "[CV 5/5] END ........C=10, gamma=1, kernel=rbf;, score=-0.076 total time=   0.7s\n",
      "[CV 1/5] END ......C=10, gamma=0.1, kernel=rbf;, score=-0.108 total time=   0.5s\n",
      "[CV 2/5] END ......C=10, gamma=0.1, kernel=rbf;, score=-0.158 total time=   0.5s\n",
      "[CV 3/5] END ......C=10, gamma=0.1, kernel=rbf;, score=-0.152 total time=   1.1s\n",
      "[CV 4/5] END ......C=10, gamma=0.1, kernel=rbf;, score=-0.133 total time=   1.0s\n",
      "[CV 5/5] END ......C=10, gamma=0.1, kernel=rbf;, score=-0.076 total time=   0.7s\n",
      "[CV 1/5] END .....C=10, gamma=0.01, kernel=rbf;, score=-0.108 total time=   0.6s\n",
      "[CV 2/5] END .....C=10, gamma=0.01, kernel=rbf;, score=-0.157 total time=   0.9s\n",
      "[CV 3/5] END .....C=10, gamma=0.01, kernel=rbf;, score=-0.151 total time=   1.1s\n",
      "[CV 4/5] END .....C=10, gamma=0.01, kernel=rbf;, score=-0.133 total time=   0.7s\n",
      "[CV 5/5] END .....C=10, gamma=0.01, kernel=rbf;, score=-0.075 total time=   0.7s\n",
      "[CV 1/5] END ....C=10, gamma=0.001, kernel=rbf;, score=-0.107 total time=   0.7s\n",
      "[CV 2/5] END ....C=10, gamma=0.001, kernel=rbf;, score=-0.153 total time=   0.6s\n",
      "[CV 3/5] END ....C=10, gamma=0.001, kernel=rbf;, score=-0.148 total time=   0.6s\n",
      "[CV 4/5] END ....C=10, gamma=0.001, kernel=rbf;, score=-0.132 total time=   0.6s\n",
      "[CV 5/5] END ....C=10, gamma=0.001, kernel=rbf;, score=-0.071 total time=   0.6s\n",
      "[CV 1/5] END ...C=10, gamma=0.0001, kernel=rbf;, score=-0.099 total time=   0.6s\n",
      "[CV 2/5] END ...C=10, gamma=0.0001, kernel=rbf;, score=-0.141 total time=   0.6s\n",
      "[CV 3/5] END ...C=10, gamma=0.0001, kernel=rbf;, score=-0.136 total time=   0.6s\n",
      "[CV 4/5] END ...C=10, gamma=0.0001, kernel=rbf;, score=-0.127 total time=   0.6s\n",
      "[CV 5/5] END ...C=10, gamma=0.0001, kernel=rbf;, score=-0.062 total time=   0.6s\n",
      "[CV 1/5] END .......C=100, gamma=1, kernel=rbf;, score=-0.001 total time=   0.8s\n",
      "[CV 2/5] END .......C=100, gamma=1, kernel=rbf;, score=-0.003 total time=   0.7s\n",
      "[CV 3/5] END .......C=100, gamma=1, kernel=rbf;, score=-0.004 total time=   0.7s\n",
      "[CV 4/5] END .......C=100, gamma=1, kernel=rbf;, score=-0.000 total time=   0.8s\n",
      "[CV 5/5] END .......C=100, gamma=1, kernel=rbf;, score=-0.006 total time=   0.7s\n",
      "[CV 1/5] END .....C=100, gamma=0.1, kernel=rbf;, score=-0.001 total time=   0.8s\n",
      "[CV 2/5] END .....C=100, gamma=0.1, kernel=rbf;, score=-0.003 total time=   0.7s\n",
      "[CV 3/5] END .....C=100, gamma=0.1, kernel=rbf;, score=-0.004 total time=   0.7s\n",
      "[CV 4/5] END .....C=100, gamma=0.1, kernel=rbf;, score=-0.000 total time=   0.7s\n",
      "[CV 5/5] END .....C=100, gamma=0.1, kernel=rbf;, score=-0.006 total time=   0.7s\n",
      "[CV 1/5] END ....C=100, gamma=0.01, kernel=rbf;, score=-0.001 total time=   0.8s\n",
      "[CV 2/5] END ....C=100, gamma=0.01, kernel=rbf;, score=-0.002 total time=   0.7s\n",
      "[CV 3/5] END ....C=100, gamma=0.01, kernel=rbf;, score=-0.003 total time=   0.7s\n",
      "[CV 4/5] END .....C=100, gamma=0.01, kernel=rbf;, score=0.000 total time=   0.8s\n",
      "[CV 5/5] END ....C=100, gamma=0.01, kernel=rbf;, score=-0.006 total time=   0.8s\n",
      "[CV 1/5] END ....C=100, gamma=0.001, kernel=rbf;, score=0.000 total time=   0.8s\n",
      "[CV 2/5] END ....C=100, gamma=0.001, kernel=rbf;, score=0.009 total time=   0.8s\n",
      "[CV 3/5] END ....C=100, gamma=0.001, kernel=rbf;, score=0.005 total time=   0.7s\n",
      "[CV 4/5] END ....C=100, gamma=0.001, kernel=rbf;, score=0.001 total time=   0.7s\n",
      "[CV 5/5] END ....C=100, gamma=0.001, kernel=rbf;, score=0.005 total time=   0.7s\n",
      "[CV 1/5] END ...C=100, gamma=0.0001, kernel=rbf;, score=0.022 total time=   0.8s\n",
      "[CV 2/5] END ...C=100, gamma=0.0001, kernel=rbf;, score=0.031 total time=   0.8s\n",
      "[CV 3/5] END ...C=100, gamma=0.0001, kernel=rbf;, score=0.036 total time=   0.8s\n",
      "[CV 4/5] END ...C=100, gamma=0.0001, kernel=rbf;, score=0.018 total time=   0.7s\n",
      "[CV 5/5] END ...C=100, gamma=0.0001, kernel=rbf;, score=0.033 total time=   0.8s\n",
      "[CV 1/5] END ......C=1000, gamma=1, kernel=rbf;, score=-0.001 total time=   0.8s\n",
      "[CV 2/5] END ......C=1000, gamma=1, kernel=rbf;, score=-0.003 total time=   0.7s\n",
      "[CV 3/5] END ......C=1000, gamma=1, kernel=rbf;, score=-0.004 total time=   0.7s\n",
      "[CV 4/5] END ......C=1000, gamma=1, kernel=rbf;, score=-0.000 total time=   0.7s\n",
      "[CV 5/5] END ......C=1000, gamma=1, kernel=rbf;, score=-0.006 total time=   0.8s\n",
      "[CV 1/5] END ....C=1000, gamma=0.1, kernel=rbf;, score=-0.001 total time=   1.0s\n",
      "[CV 2/5] END ....C=1000, gamma=0.1, kernel=rbf;, score=-0.003 total time=   0.9s\n",
      "[CV 3/5] END ....C=1000, gamma=0.1, kernel=rbf;, score=-0.004 total time=   0.8s\n",
      "[CV 4/5] END ....C=1000, gamma=0.1, kernel=rbf;, score=-0.000 total time=   0.8s\n",
      "[CV 5/5] END ....C=1000, gamma=0.1, kernel=rbf;, score=-0.006 total time=   1.0s\n",
      "[CV 1/5] END ...C=1000, gamma=0.01, kernel=rbf;, score=-0.001 total time=   0.9s\n",
      "[CV 2/5] END ...C=1000, gamma=0.01, kernel=rbf;, score=-0.002 total time=   1.1s\n",
      "[CV 3/5] END ...C=1000, gamma=0.01, kernel=rbf;, score=-0.003 total time=   1.0s\n",
      "[CV 4/5] END ....C=1000, gamma=0.01, kernel=rbf;, score=0.000 total time=   1.2s\n",
      "[CV 5/5] END ...C=1000, gamma=0.01, kernel=rbf;, score=-0.006 total time=   0.8s\n",
      "[CV 1/5] END ...C=1000, gamma=0.001, kernel=rbf;, score=0.000 total time=   1.2s\n",
      "[CV 2/5] END ...C=1000, gamma=0.001, kernel=rbf;, score=0.009 total time=   0.9s\n",
      "[CV 3/5] END ...C=1000, gamma=0.001, kernel=rbf;, score=0.005 total time=   0.9s\n",
      "[CV 4/5] END ...C=1000, gamma=0.001, kernel=rbf;, score=0.001 total time=   0.9s\n",
      "[CV 5/5] END ...C=1000, gamma=0.001, kernel=rbf;, score=0.005 total time=   0.8s\n",
      "[CV 1/5] END ..C=1000, gamma=0.0001, kernel=rbf;, score=0.022 total time=   0.7s\n",
      "[CV 2/5] END ..C=1000, gamma=0.0001, kernel=rbf;, score=0.031 total time=   0.9s\n",
      "[CV 3/5] END ..C=1000, gamma=0.0001, kernel=rbf;, score=0.036 total time=   1.0s\n",
      "[CV 4/5] END ..C=1000, gamma=0.0001, kernel=rbf;, score=0.018 total time=   0.8s\n",
      "[CV 5/5] END ..C=1000, gamma=0.0001, kernel=rbf;, score=0.033 total time=   1.0s\n"
     ]
    },
    {
     "data": {
      "text/plain": [
       "GridSearchCV(estimator=SVR(),\n",
       "             param_grid={'C': [0.1, 1, 10, 100, 1000],\n",
       "                         'gamma': [1, 0.1, 0.01, 0.001, 0.0001],\n",
       "                         'kernel': ['rbf']},\n",
       "             verbose=3)"
      ]
     },
     "execution_count": 89,
     "metadata": {},
     "output_type": "execute_result"
    }
   ],
   "source": [
    "from sklearn.svm import SVR\n",
    "from sklearn.model_selection import GridSearchCV\n",
    "\n",
    "svr = SVR()\n",
    "param_grid = {'C': [0.1, 1, 10, 100, 1000],  \n",
    "              'gamma': [1, 0.1, 0.01, 0.001, 0.0001], \n",
    "              'kernel': ['rbf']}\n",
    "grid = GridSearchCV(SVR(), param_grid, refit=True, verbose=3)\n",
    "grid.fit(X_train, Y_train)"
   ]
  },
  {
   "cell_type": "code",
   "execution_count": 92,
   "id": "e45afac1-1404-4ce7-9aca-0bcb63d4f5e5",
   "metadata": {},
   "outputs": [],
   "source": [
    "svr = SVR(C=10, gamma=0.01, kernel='rbf') \n",
    "svr.fit(X_train,Y_train) \n",
    "svr_pred = svr.predict(X_test)"
   ]
  },
  {
   "cell_type": "code",
   "execution_count": 94,
   "id": "0ed09c37-42bf-42f0-9ba3-5bacb3ba5990",
   "metadata": {},
   "outputs": [
    {
     "name": "stdout",
     "output_type": "stream",
     "text": [
      "RMSE:  34.755346700107815\n",
      "R2 SCORE:  -0.1550771040900616\n",
      "MSE:  1207.9341242446953\n"
     ]
    }
   ],
   "source": [
    "calculate(Y_test, svr_pred)"
   ]
  },
  {
   "cell_type": "code",
   "execution_count": 95,
   "id": "81fae4b9-80bc-404e-b5e5-89ee8b2f0c79",
   "metadata": {},
   "outputs": [
    {
     "name": "stdout",
     "output_type": "stream",
     "text": [
      "Requirement already satisfied: joblib in c:\\users\\anike\\pycharmprojects\\stock price predictor\\venv\\lib\\site-packages (1.1.0)Note: you may need to restart the kernel to use updated packages.\n",
      "\n"
     ]
    }
   ],
   "source": [
    "pip install joblib"
   ]
  },
  {
   "cell_type": "code",
   "execution_count": 100,
   "id": "216e848e-1abe-4ff1-89dc-b93a9190d806",
   "metadata": {},
   "outputs": [],
   "source": [
    "import joblib\n",
    "\n",
    "joblib.dump(ridge, 'model.pkl')\n",
    "ridge_from_joblib = model = joblib.load(\"model.pkl\")"
   ]
  },
  {
   "cell_type": "code",
   "execution_count": null,
   "id": "0bc9808f-689e-4bab-8629-059ae662e09d",
   "metadata": {},
   "outputs": [],
   "source": []
  },
  {
   "cell_type": "code",
   "execution_count": null,
   "id": "ff888687-f0ef-4dd0-a4c3-417f4a5fe5c7",
   "metadata": {},
   "outputs": [],
   "source": []
  },
  {
   "cell_type": "code",
   "execution_count": null,
   "id": "c7e2eb57-8f0c-4a27-b22c-98a23d755142",
   "metadata": {},
   "outputs": [],
   "source": []
  },
  {
   "cell_type": "code",
   "execution_count": null,
   "id": "cb112578-0d11-43d2-a8fb-a0b07d53f251",
   "metadata": {},
   "outputs": [],
   "source": []
  },
  {
   "cell_type": "code",
   "execution_count": null,
   "id": "54b594f7-93b7-4fac-bca1-860e87f47573",
   "metadata": {},
   "outputs": [],
   "source": []
  }
 ],
 "metadata": {
  "kernelspec": {
   "display_name": "Python 3 (ipykernel)",
   "language": "python",
   "name": "python3"
  },
  "language_info": {
   "codemirror_mode": {
    "name": "ipython",
    "version": 3
   },
   "file_extension": ".py",
   "mimetype": "text/x-python",
   "name": "python",
   "nbconvert_exporter": "python",
   "pygments_lexer": "ipython3",
   "version": "3.9.7"
  }
 },
 "nbformat": 4,
 "nbformat_minor": 5
}
